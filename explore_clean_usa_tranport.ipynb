{
 "cells": [
  {
   "cell_type": "markdown",
   "id": "d59dc9e7-cd50-41e5-97e2-9206930e7a8c",
   "metadata": {},
   "source": [
    "### Phase 1: Exploration et nettoyage des données"
   ]
  },
  {
   "cell_type": "markdown",
   "id": "b35dcd75",
   "metadata": {},
   "source": [
    "Importation des librairies "
   ]
  },
  {
   "cell_type": "code",
   "execution_count": 70,
   "id": "3a980f3c-85d4-4c07-b66a-6bedaf10ea40",
   "metadata": {},
   "outputs": [],
   "source": [
    "from pyspark.sql import SparkSession\n",
    "import numpy as np\n",
    "import pandas as pd\n",
    "import matplotlib.pyplot as plt\n",
    "import seaborn as sns"
   ]
  },
  {
   "cell_type": "markdown",
   "id": "56f51261",
   "metadata": {},
   "source": [
    "Initialisation de la session Spark:"
   ]
  },
  {
   "cell_type": "code",
   "execution_count": null,
   "id": "e886e661",
   "metadata": {},
   "outputs": [],
   "source": [
    "spark = SparkSession.builder \\\n",
    "    .appName(\"Analyse_US_Accidents\") \\\n",
    "    .master(\"local[*]\") \\\n",
    "    .config(\"spark.executor.memory\", \"8g\") \\\n",
    "    .config(\"spark.driver.memory\", \"8g\") \\\n",
    "    .config(\"spark.memory.fraction\", \"0.8\") \\\n",
    "    .config(\"spark.memory.storageFraction\", \"0.3\") \\\n",
    "    .getOrCreate()"
   ]
  },
  {
   "cell_type": "code",
   "execution_count": null,
   "outputs": [],
   "source": [],
   "metadata": {
    "collapsed": false
   }
  },
  {
   "cell_type": "markdown",
   "id": "539883aa",
   "metadata": {},
   "source": [
    "Charger le jeu de données CSV à partir de HDFS:"
   ]
  },
  {
   "cell_type": "code",
   "execution_count": 71,
   "id": "d908c735-02ac-4d91-b187-6f7e4cce1dbb",
   "metadata": {},
   "outputs": [],
   "source": [
    "df = spark.read.load('hdfs://localhost:8020/user/root/US_Accidents_Dec21_updated.csv', format='com.databricks.spark.csv',header='true',sep=',',inferSchema='true')"
   ]
  },
  {
   "cell_type": "markdown",
   "id": "099d54d2",
   "metadata": {},
   "source": [
    "##### Exploration du jeu de données:"
   ]
  },
  {
   "cell_type": "markdown",
   "id": "2bd4c9a6",
   "metadata": {},
   "source": [
    "Afficher le schéma de données du DataFrame:"
   ]
  },
  {
   "cell_type": "code",
   "execution_count": 72,
   "id": "082fe947-597c-4b5f-be38-f9de05828f07",
   "metadata": {},
   "outputs": [
    {
     "name": "stdout",
     "output_type": "stream",
     "text": [
      "root\n",
      " |-- ID: string (nullable = true)\n",
      " |-- Severity: integer (nullable = true)\n",
      " |-- Start_Time: timestamp (nullable = true)\n",
      " |-- End_Time: timestamp (nullable = true)\n",
      " |-- Start_Lat: double (nullable = true)\n",
      " |-- Start_Lng: double (nullable = true)\n",
      " |-- End_Lat: double (nullable = true)\n",
      " |-- End_Lng: double (nullable = true)\n",
      " |-- Distance(mi): double (nullable = true)\n",
      " |-- Description: string (nullable = true)\n",
      " |-- Number: double (nullable = true)\n",
      " |-- Street: string (nullable = true)\n",
      " |-- Side: string (nullable = true)\n",
      " |-- City: string (nullable = true)\n",
      " |-- County: string (nullable = true)\n",
      " |-- State: string (nullable = true)\n",
      " |-- Zipcode: string (nullable = true)\n",
      " |-- Country: string (nullable = true)\n",
      " |-- Timezone: string (nullable = true)\n",
      " |-- Airport_Code: string (nullable = true)\n",
      " |-- Weather_Timestamp: timestamp (nullable = true)\n",
      " |-- Temperature(F): double (nullable = true)\n",
      " |-- Wind_Chill(F): double (nullable = true)\n",
      " |-- Humidity(%): double (nullable = true)\n",
      " |-- Pressure(in): double (nullable = true)\n",
      " |-- Visibility(mi): double (nullable = true)\n",
      " |-- Wind_Direction: string (nullable = true)\n",
      " |-- Wind_Speed(mph): double (nullable = true)\n",
      " |-- Precipitation(in): double (nullable = true)\n",
      " |-- Weather_Condition: string (nullable = true)\n",
      " |-- Amenity: boolean (nullable = true)\n",
      " |-- Bump: boolean (nullable = true)\n",
      " |-- Crossing: boolean (nullable = true)\n",
      " |-- Give_Way: boolean (nullable = true)\n",
      " |-- Junction: boolean (nullable = true)\n",
      " |-- No_Exit: boolean (nullable = true)\n",
      " |-- Railway: boolean (nullable = true)\n",
      " |-- Roundabout: boolean (nullable = true)\n",
      " |-- Station: boolean (nullable = true)\n",
      " |-- Stop: boolean (nullable = true)\n",
      " |-- Traffic_Calming: boolean (nullable = true)\n",
      " |-- Traffic_Signal: boolean (nullable = true)\n",
      " |-- Turning_Loop: boolean (nullable = true)\n",
      " |-- Sunrise_Sunset: string (nullable = true)\n",
      " |-- Civil_Twilight: string (nullable = true)\n",
      " |-- Nautical_Twilight: string (nullable = true)\n",
      " |-- Astronomical_Twilight: string (nullable = true)\n",
      "\n"
     ]
    }
   ],
   "source": [
    "df.printSchema()"
   ]
  },
  {
   "cell_type": "code",
   "execution_count": 73,
   "id": "e5883aaa-0d85-46ef-8a05-7efba660f737",
   "metadata": {},
   "outputs": [
    {
     "name": "stdout",
     "output_type": "stream",
     "text": [
      "Le nombre total de ligne: 2845342\n"
     ]
    }
   ],
   "source": [
    "nb_row = df.count()\n",
    "print(\"Le nombre total de ligne:\", nb_row )"
   ]
  },
  {
   "cell_type": "code",
   "execution_count": 74,
   "id": "ba13e275-0041-4fd4-aaba-f77815a6c367",
   "metadata": {},
   "outputs": [
    {
     "name": "stdout",
     "output_type": "stream",
     "text": [
      "Le nombre de colonnes dans le jeu de données est : 47\n"
     ]
    }
   ],
   "source": [
    "num_cols = len(df.columns)\n",
    "print('Le nombre de colonnes dans le jeu de données est :', num_cols)"
   ]
  },
  {
   "cell_type": "markdown",
   "id": "6397d7cd",
   "metadata": {},
   "source": [
    "\n",
    "Le nombre de valeurs distinctes pour chaque colonne du DataFrame Spark:"
   ]
  },
  {
   "cell_type": "code",
   "execution_count": 5,
   "id": "8634bac0-a609-46af-a7b4-21d3858e1c32",
   "metadata": {},
   "outputs": [
    {
     "name": "stdout",
     "output_type": "stream",
     "text": [
      "ID: 2845342\n",
      "Severity: 4\n",
      "Start_Time: 1807311\n",
      "End_Time: 2239983\n",
      "Start_Lat: 1093622\n",
      "Start_Lng: 1120375\n",
      "End_Lat: 1080817\n",
      "End_Lng: 1105411\n",
      "Distance(mi): 14165\n",
      "Description: 1174563\n",
      "Number: 46402\n",
      "Street: 159651\n",
      "Side: 3\n",
      "City: 11681\n",
      "County: 1707\n",
      "State: 49\n",
      "Zipcode: 363085\n",
      "Country: 1\n",
      "Timezone: 4\n",
      "Airport_Code: 2004\n",
      "Weather_Timestamp: 474214\n",
      "Temperature(F): 789\n",
      "Wind_Chill(F): 897\n",
      "Humidity(%): 100\n",
      "Pressure(in): 1068\n",
      "Visibility(mi): 76\n",
      "Wind_Direction: 24\n",
      "Wind_Speed(mph): 136\n",
      "Precipitation(in): 230\n",
      "Weather_Condition: 127\n",
      "Amenity: 2\n",
      "Bump: 2\n",
      "Crossing: 2\n",
      "Give_Way: 2\n",
      "Junction: 2\n",
      "No_Exit: 2\n",
      "Railway: 2\n",
      "Roundabout: 2\n",
      "Station: 2\n",
      "Stop: 2\n",
      "Traffic_Calming: 2\n",
      "Traffic_Signal: 2\n",
      "Turning_Loop: 1\n",
      "Sunrise_Sunset: 2\n",
      "Civil_Twilight: 2\n",
      "Nautical_Twilight: 2\n",
      "Astronomical_Twilight: 2\n"
     ]
    }
   ],
   "source": [
    "from pyspark.sql.functions import countDistinct\n",
    "\n",
    "for col in df.columns:\n",
    "    num_distinct_values = df.select(countDistinct(col)).collect()[0][0]\n",
    "    print(f\"{col}: {num_distinct_values}\")"
   ]
  },
  {
   "cell_type": "markdown",
   "id": "cf797ee9",
   "metadata": {},
   "source": [
    "Extraire les valeurs distinctes de la colonne 'Severity'"
   ]
  },
  {
   "cell_type": "code",
   "execution_count": 49,
   "id": "38ea1fd8-4d21-4160-998f-349218d2c9e2",
   "metadata": {},
   "outputs": [
    {
     "name": "stdout",
     "output_type": "stream",
     "text": [
      "[1, 3, 4, 2]\n"
     ]
    }
   ],
   "source": [
    "severity_values = df.select('Severity').distinct().rdd.flatMap(lambda x: x).collect()\n",
    "\n",
    "print(severity_values)"
   ]
  },
  {
   "cell_type": "markdown",
   "id": "276b2942",
   "metadata": {},
   "source": [
    "Visualiser le pourcentage de la répartition des valeurs de 'Severity':"
   ]
  },
  {
   "cell_type": "code",
   "execution_count": 50,
   "id": "075c64f5-af2a-4ec6-b9a9-3bd2fd95d075",
   "metadata": {},
   "outputs": [
    {
     "name": "stdout",
     "output_type": "stream",
     "text": [
      "+--------+----------+\n",
      "|Severity|Percentage|\n",
      "+--------+----------+\n",
      "|       1|      0.92|\n",
      "|       3|      5.45|\n",
      "|       4|      4.61|\n",
      "|       2|     89.02|\n",
      "+--------+----------+\n",
      "\n"
     ]
    }
   ],
   "source": [
    "from pyspark.sql.functions import count, format_number\n",
    "\n",
    "total = df.count()\n",
    "\n",
    "severity_percentages = df.groupBy('Severity').agg((count('*')/total*100).alias('Percentage'))\n",
    "\n",
    "severity_percentages = severity_percentages.withColumn('Percentage', format_number('Percentage', 2))\n",
    "\n",
    "severity_percentages.show()"
   ]
  },
  {
   "cell_type": "markdown",
   "id": "7772d6ee",
   "metadata": {},
   "source": [
    "Afficher le nombre de valeur nulle pour chaque colonne du Dataframe:"
   ]
  },
  {
   "cell_type": "code",
   "execution_count": 9,
   "id": "c1c17fbb-0600-4e5b-a097-57519174c5df",
   "metadata": {},
   "outputs": [
    {
     "name": "stdout",
     "output_type": "stream",
     "text": [
      "Le nombre de valeur nulle pour chaque colonne\n",
      "ID                           0\n",
      "Severity                     0\n",
      "Start_Time                   0\n",
      "End_Time                     0\n",
      "Start_Lat                    0\n",
      "Start_Lng                    0\n",
      "End_Lat                      0\n",
      "End_Lng                      0\n",
      "Distance(mi)                 0\n",
      "Description                  0\n",
      "Number                 1743911\n",
      "Street                       2\n",
      "Side                         0\n",
      "City                       137\n",
      "County                       0\n",
      "State                        0\n",
      "Zipcode                   1319\n",
      "Country                      0\n",
      "Timezone                  3659\n",
      "Airport_Code              9549\n",
      "Weather_Timestamp        50736\n",
      "Temperature(F)           69274\n",
      "Wind_Chill(F)           469643\n",
      "Humidity(%)              73092\n",
      "Pressure(in)             59200\n",
      "Visibility(mi)           70546\n",
      "Wind_Direction           73775\n",
      "Wind_Speed(mph)         157944\n",
      "Precipitation(in)       549458\n",
      "Weather_Condition        70636\n",
      "Amenity                      0\n",
      "Bump                         0\n",
      "Crossing                     0\n",
      "Give_Way                     0\n",
      "Junction                     0\n",
      "No_Exit                      0\n",
      "Railway                      0\n",
      "Roundabout                   0\n",
      "Station                      0\n",
      "Stop                         0\n",
      "Traffic_Calming              0\n",
      "Traffic_Signal               0\n",
      "Turning_Loop                 0\n",
      "Sunrise_Sunset            2867\n",
      "Civil_Twilight            2867\n",
      "Nautical_Twilight         2867\n",
      "Astronomical_Twilight     2867\n"
     ]
    }
   ],
   "source": [
    "from pyspark.sql.functions import sum, col\n",
    "\n",
    "null_counts = df.agg(*[sum(col(c).isNull().cast(\"int\")).alias(c) for c in df.columns])\n",
    "\n",
    "null_counts_pd = null_counts.toPandas()\n",
    "\n",
    "null_counts_pd = null_counts_pd.set_index(null_counts.columns[0])\n",
    "\n",
    "null_counts_pd = null_counts_pd.T\n",
    "\n",
    "print(\"Le nombre de valeur nulle pour chaque colonne\")\n",
    "print(null_counts_pd)"
   ]
  },
  {
   "cell_type": "markdown",
   "id": "acda8194-9b1b-4be3-b5db-68564c50eb32",
   "metadata": {
    "tags": []
   },
   "source": [
    "##### Interpretation du resultat de parcours des colonnes:\n",
    "\n",
    "Le résultat affiche le nombre de valeurs distinctes pour chaque colonne dans le dataframe. On peut remarquer que certaines colonnes ont un nombre de valeurs distinctes très faible, comme la colonne \"Turning_Loop\" qui n'a qu'une seule valeur distincte. Il peut être judicieux de supprimer ces colonnes qui ne contiennent pas d'informations utiles pour notre analyse.\n",
    "\n",
    "D'autre part, certaines colonnes ont un grand nombre de valeurs distinctes, comme la colonne \"Description\" qui a plus de 1 million de valeurs distinctes. Pour ces colonnes, il peut être utile de faire une analyse plus approfondie pour comprendre la distribution des valeurs et éventuellement réduire le nombre de valeurs distinctes en regroupant certaines valeurs similaires.\n",
    "\n",
    "Enfin, on peut remarquer que certaines colonnes sont catégorielles, comme la colonne \"State\" qui n'a que 49 valeurs distinctes. Pour ces colonnes, il peut être intéressant de créer des graphiques pour visualiser la distribution des valeurs et comprendre les tendances géographiques des accidents de la route."
   ]
  },
  {
   "cell_type": "markdown",
   "id": "8eb78d87",
   "metadata": {},
   "source": [
    "\n"
   ]
  },
  {
   "cell_type": "markdown",
   "id": "db1fd643",
   "metadata": {},
   "source": [
    "\n",
    "\n",
    "Génère un diagramme à barres pour visualiser la répartition des valeurs manquantes dans le DataFrame Spark "
   ]
  },
  {
   "cell_type": "code",
   "execution_count": 11,
   "id": "07d17e16-2fd2-4136-8686-eb62eeb36c11",
   "metadata": {},
   "outputs": [
    {
     "data": {
      "image/png": "[encoded data removed]",
      "text/plain": [
       "<Figure size 864x432 with 1 Axes>"
      ]
     },
     "metadata": {
      "needs_background": "light"
     },
     "output_type": "display_data"
    }
   ],
   "source": [
    "import matplotlib.pyplot as plt\n",
    "\n",
    "missing_percentages = df.select([(sum(col(c).isNull().cast(\"int\")) / df.count() * 100).alias(c) for c in df.columns])\n",
    "\n",
    "missing_percentages_pd = missing_percentages.toPandas().transpose()\n",
    "missing_percentages_pd.columns = ['% de valeurs manquantes']\n",
    "\n",
    "missing_percentages_pd.plot(kind='bar', figsize=(12,6))\n",
    "plt.title('Pourcentage de valeurs manquantes par colonne')\n",
    "plt.xlabel('Colonnes')\n",
    "plt.ylabel('% de valeurs manquantes')\n",
    "plt.show()"
   ]
  },
  {
   "cell_type": "markdown",
   "id": "2441ed41",
   "metadata": {},
   "source": [
    "Calcul de la durée moyenne d'un accident de voiture, entre la date du début de l'accident et sa fin, cela permet de déduire si la colonne 'End_time' est representative "
   ]
  },
  {
   "cell_type": "code",
   "execution_count": 8,
   "id": "15342876-1695-4645-a675-54af8bddfe3d",
   "metadata": {},
   "outputs": [
    {
     "name": "stdout",
     "output_type": "stream",
     "text": [
      "La duration moeynne:  359.034 min\n"
     ]
    }
   ],
   "source": [
    "from pyspark.sql.functions import when, round, expr, col\n",
    "\n",
    "df = df.withColumn(\"Duration\", (col(\"End_Time\").cast(\"long\") - col(\"Start_Time\").cast(\"long\")) / 60)\n",
    "\n",
    "df = df.withColumn(\"Duration_Rounded\", round(col(\"Duration\"), 3))\n",
    "\n",
    "mean_duration = df.select(expr(\"round(avg(Duration_Rounded), 3)\").alias(\"mean_duration\")).collect()[0][\"mean_duration\"]\n",
    "\n",
    "print(\"La duration moyenne: \", mean_duration, 'min')"
   ]
  },
  {
   "cell_type": "markdown",
   "id": "e8ef652f",
   "metadata": {},
   "source": [
    "##### Nettoyage du jeu de données:"
   ]
  },
  {
   "cell_type": "markdown",
   "id": "683c894a",
   "metadata": {},
   "source": [
    "Suppression des colonnes non utiles à l'analyse:"
   ]
  },
  {
   "cell_type": "code",
   "execution_count": 75,
   "id": "ec553fea-4fe4-438e-974d-65bcd45830e2",
   "metadata": {},
   "outputs": [],
   "source": [
    "df = df.drop('Distance', 'End_Time', 'Street','Amenity','Give_Way','Bump','No_Exit','Railway','Roundabout','Stop','Traffic_Calming','Duration','Number', 'Timezone','End_Lat', 'End_Lng', 'Wind_Chill(F)', 'Zipcode', 'Airport_Code' )"
   ]
  },
  {
   "cell_type": "code",
   "execution_count": 76,
   "id": "4d253a48-a071-40ec-a085-8463a091f25d",
   "metadata": {},
   "outputs": [],
   "source": [
    "df= df.drop('Country', 'Turning_Loop')"
   ]
  },
  {
   "cell_type": "markdown",
   "id": "5b6d8a2e",
   "metadata": {},
   "source": [
    "Suppression de toutes les lignes contenant des valeurs manquantes pour les colonnes liés à la période de la journée, étant donné que ces variables ont le même nombre de données manquantes "
   ]
  },
  {
   "cell_type": "code",
   "execution_count": 77,
   "id": "3ea32669-35ed-4926-aaa2-e133219b06db",
   "metadata": {},
   "outputs": [],
   "source": [
    "df = df.dropna(subset=['City','Sunrise_Sunset','Civil_Twilight','Nautical_Twilight','Astronomical_Twilight'])"
   ]
  },
  {
   "cell_type": "markdown",
   "id": "0747a8cc",
   "metadata": {},
   "source": [
    "Remplacer les valeurs manquantes pour les colonnes liés aux attributs météorologiques par leur médianes:"
   ]
  },
  {
   "cell_type": "code",
   "execution_count": 78,
   "id": "a36055bf-6cd8-487e-9caf-7f6aa02715c0",
   "metadata": {},
   "outputs": [],
   "source": [
    "from pyspark.sql.functions import col\n",
    "\n",
    "humidity_median = df.approxQuantile(\"Humidity(%)\", [0.5], 0.25)[0]\n",
    "pressure_median = df.approxQuantile(\"Pressure(in)\", [0.5], 0.25)[0]\n",
    "visibility_median = df.approxQuantile(\"Visibility(mi)\", [0.5], 0.25)[0]\n",
    "temperature_median = df.approxQuantile(\"Temperature(F)\", [0.5], 0.25)[0]\n",
    "\n",
    "df = df.withColumn(\"Humidity(%)\", when(col(\"Humidity(%)\").isNull(), humidity_median).otherwise(col(\"Humidity(%)\")))\n",
    "df = df.withColumn(\"Pressure(in)\", when(col(\"Pressure(in)\").isNull(), pressure_median).otherwise(col(\"Pressure(in)\")))\n",
    "df = df.withColumn(\"Visibility(mi)\", when(col(\"Visibility(mi)\").isNull(), visibility_median).otherwise(col(\"Visibility(mi)\")))\n",
    "df = df.withColumn(\"Temperature(F)\", when(col(\"Temperature(F)\").isNull(), temperature_median).otherwise(col(\"Temperature(F)\")))"
   ]
  },
  {
   "cell_type": "markdown",
   "id": "0222563b",
   "metadata": {},
   "source": [
    "Afficher les differentes valeurs de l'attribut 'Wind_Direction'"
   ]
  },
  {
   "cell_type": "code",
   "execution_count": 57,
   "id": "f97844a5-1900-4d0a-b6b6-473dde2ab001",
   "metadata": {},
   "outputs": [
    {
     "name": "stdout",
     "output_type": "stream",
     "text": [
      "Wind Direction:  ['SSE', 'SW', 'NW', 'Calm', None, 'E', 'WSW', 'ENE', 'NE', 'South', 'NNW', 'N', 'SSW', 'W', 'S', 'SE', 'East', 'WNW', 'NNE', 'West', 'VAR', 'CALM', 'ESE', 'Variable', 'North']\n"
     ]
    }
   ],
   "source": [
    "print(\"Wind Direction: \", df.select(\"Wind_Direction\").distinct().rdd.flatMap(lambda x: x).collect())"
   ]
  },
  {
   "cell_type": "markdown",
   "id": "fb61dc02",
   "metadata": {},
   "source": [
    "Remplacer les valeurs de la colonne 'Wind_Direction' par des valeurs simplifiées:"
   ]
  },
  {
   "cell_type": "code",
   "execution_count": 79,
   "id": "709a063e-618b-4d1d-9e05-70b1a1c8bff5",
   "metadata": {},
   "outputs": [
    {
     "name": "stdout",
     "output_type": "stream",
     "text": [
      "Wind Direction after simplification:  ['SW', 'NW', None, 'E', 'NE', 'N', 'W', 'S', 'SE', 'VAR', 'CALM']\n"
     ]
    }
   ],
   "source": [
    "from pyspark.sql.functions import when\n",
    "\n",
    "df = df.withColumn(\"Wind_Direction\", \\\n",
    "                   when(col(\"Wind_Direction\") == \"Calm\", \"CALM\") \\\n",
    "                   .when(col(\"Wind_Direction\").isin([\"West\", \"WSW\", \"WNW\"]), \"W\") \\\n",
    "                   .when(col(\"Wind_Direction\").isin([\"South\", \"SSW\", \"SSE\"]), \"S\") \\\n",
    "                   .when(col(\"Wind_Direction\").isin([\"North\", \"NNW\", \"NNE\"]), \"N\") \\\n",
    "                   .when(col(\"Wind_Direction\").isin([\"East\", \"ESE\", \"ENE\"]), \"E\") \\\n",
    "                   .when(col(\"Wind_Direction\") == \"Variable\", \"VAR\") \\\n",
    "                   .otherwise(col(\"Wind_Direction\")))\n",
    "\n",
    "print(\"Wind Direction after simplification: \", df.select(\"Wind_Direction\").distinct().rdd.flatMap(lambda x: x).collect())"
   ]
  },
  {
   "cell_type": "markdown",
   "id": "8838d800",
   "metadata": {},
   "source": [
    "Afficher les differentes valeurs de l'attribut 'Weather_Condition'"
   ]
  },
  {
   "cell_type": "code",
   "execution_count": 80,
   "id": "1e8754b5-0854-4744-b9a9-c7e2b0c6da0e",
   "metadata": {},
   "outputs": [
    {
     "name": "stdout",
     "output_type": "stream",
     "text": [
      "Weather_Condition: \n",
      "+--------------------+\n",
      "|   Weather_Condition|\n",
      "+--------------------+\n",
      "|Light Rain Shower...|\n",
      "|         Ice Pellets|\n",
      "|         Shallow Fog|\n",
      "|        Thunderstorm|\n",
      "|Light Snow with T...|\n",
      "|         Light Sleet|\n",
      "|  Light Snow / Windy|\n",
      "|   N/A Precipitation|\n",
      "|        Volcanic Ash|\n",
      "|           Duststorm|\n",
      "|Freezing Rain / W...|\n",
      "| Blowing Snow Nearby|\n",
      "|Showers in the Vi...|\n",
      "|   Heavy Ice Pellets|\n",
      "|              Cloudy|\n",
      "|    Thunder and Hail|\n",
      "|  Wintry Mix / Windy|\n",
      "|     T-Storm / Windy|\n",
      "| Light Freezing Rain|\n",
      "|          Wintry Mix|\n",
      "+--------------------+\n",
      "only showing top 20 rows\n",
      "\n"
     ]
    }
   ],
   "source": [
    "from pyspark.sql.functions import col\n",
    "\n",
    "print(\"Weather_Condition: \")\n",
    "df.select(col('Weather_Condition')).distinct().show()"
   ]
  },
  {
   "cell_type": "markdown",
   "id": "01719914",
   "metadata": {},
   "source": [
    "Répartir des données de 'Weather_Condition' sur plusieurs nouvelles colonnes booléennes:"
   ]
  },
  {
   "cell_type": "code",
   "execution_count": 3,
   "id": "f97044ac-6d7e-4222-a0e5-9136bfc72c39",
   "metadata": {},
   "outputs": [
    {
     "ename": "ModuleNotFoundError",
     "evalue": "No module named 'pyspark'",
     "output_type": "error",
     "traceback": [
      "\u001B[1;31m---------------------------------------------------------------------------\u001B[0m",
      "\u001B[1;31mModuleNotFoundError\u001B[0m                       Traceback (most recent call last)",
      "Cell \u001B[1;32mIn[3], line 1\u001B[0m\n\u001B[1;32m----> 1\u001B[0m \u001B[38;5;28;01mfrom\u001B[39;00m \u001B[38;5;21;01mpyspark\u001B[39;00m\u001B[38;5;21;01m.\u001B[39;00m\u001B[38;5;21;01msql\u001B[39;00m\u001B[38;5;21;01m.\u001B[39;00m\u001B[38;5;21;01mfunctions\u001B[39;00m \u001B[38;5;28;01mimport\u001B[39;00m when, col\n\u001B[0;32m      3\u001B[0m df \u001B[38;5;241m=\u001B[39m df\u001B[38;5;241m.\u001B[39mwithColumn(\u001B[38;5;124m'\u001B[39m\u001B[38;5;124mClear\u001B[39m\u001B[38;5;124m'\u001B[39m, when(col(\u001B[38;5;124m'\u001B[39m\u001B[38;5;124mWeather_Condition\u001B[39m\u001B[38;5;124m'\u001B[39m)\u001B[38;5;241m.\u001B[39mrlike(\u001B[38;5;124m'\u001B[39m\u001B[38;5;124mClear|clear\u001B[39m\u001B[38;5;124m'\u001B[39m), \u001B[38;5;28;01mTrue\u001B[39;00m)\u001B[38;5;241m.\u001B[39motherwise(\u001B[38;5;28;01mFalse\u001B[39;00m))\n\u001B[0;32m      5\u001B[0m df \u001B[38;5;241m=\u001B[39m df\u001B[38;5;241m.\u001B[39mwithColumn(\u001B[38;5;124m'\u001B[39m\u001B[38;5;124mCloud\u001B[39m\u001B[38;5;124m'\u001B[39m, when(col(\u001B[38;5;124m'\u001B[39m\u001B[38;5;124mWeather_Condition\u001B[39m\u001B[38;5;124m'\u001B[39m)\u001B[38;5;241m.\u001B[39mrlike(\u001B[38;5;124m'\u001B[39m\u001B[38;5;124mCloud|cloud|Overcast|overcast\u001B[39m\u001B[38;5;124m'\u001B[39m), \u001B[38;5;28;01mTrue\u001B[39;00m)\u001B[38;5;241m.\u001B[39motherwise(\u001B[38;5;28;01mFalse\u001B[39;00m))\n",
      "\u001B[1;31mModuleNotFoundError\u001B[0m: No module named 'pyspark'"
     ]
    }
   ],
   "source": [
    "from pyspark.sql.functions import when, col\n",
    "\n",
    "df = df.withColumn('Clear', when(col('Weather_Condition').rlike('Clear|clear'), True).otherwise(False))\n",
    "\n",
    "df = df.withColumn('Cloud', when(col('Weather_Condition').rlike('Cloud|cloud|Overcast|overcast'), True).otherwise(False))\n",
    "\n",
    "df = df.withColumn('Rain', when(col('Weather_Condition').rlike('Rain|rain|Storm|storm'), True).otherwise(False))\n",
    "\n",
    "df = df.withColumn('Heavy_Rain', when(col('Weather_Condition').rlike('Heavy Rain|Rain Shower|Heavy T-Storm|Heavy Thunderstorms'), True).otherwise(False))\n",
    "\n",
    "df = df.withColumn('Snow', when(col('Weather_Condition').rlike('Snow|snow|Sleet|sleet|Ice|ice'), True).otherwise(False))\n",
    "\n",
    "df = df.withColumn('Heavy_Snow', when(col('Weather_Condition').rlike('Heavy Snow|Heavy Sleet|Heavy Ice Pellets|Snow Showers|Squalls'), True).otherwise(False))\n",
    "\n",
    "df = df.withColumn('Fog', when(col('Weather_Condition').rlike('Fog|fog'), True).otherwise(False))\n",
    "\n",
    "df.select('Clear', 'Cloud', 'Rain', 'Heavy_Rain', 'Snow', 'Heavy_Snow', 'Fog').show(5)"
   ]
  },
  {
   "cell_type": "markdown",
   "id": "80b9e58b",
   "metadata": {},
   "source": [
    "Explorer le format des dates du DataFrame:"
   ]
  },
  {
   "cell_type": "code",
   "execution_count": 83,
   "id": "db6ecbe3-828a-4bd3-9e2e-bc9525d830cc",
   "metadata": {},
   "outputs": [
    {
     "name": "stdout",
     "output_type": "stream",
     "text": [
      "Extrait des 10 premieres dates enregistrées dans le dataframe:\n",
      "+-------------------+\n",
      "|         Start_Time|\n",
      "+-------------------+\n",
      "|2016-02-08 00:37:08|\n",
      "|2016-02-08 05:56:20|\n",
      "|2016-02-08 06:15:39|\n",
      "|2016-02-08 06:51:45|\n",
      "|2016-02-08 07:53:43|\n",
      "|2016-02-08 08:16:57|\n",
      "|2016-02-08 08:15:41|\n",
      "|2016-02-08 11:51:46|\n",
      "|2016-02-08 14:19:57|\n",
      "|2016-02-08 15:16:43|\n",
      "+-------------------+\n",
      "only showing top 10 rows\n",
      "\n"
     ]
    }
   ],
   "source": [
    "from pyspark.sql.functions import col\n",
    "\n",
    "print(\"Extrait des 10 premieres dates enregistrées dans le dataframe:\")\n",
    "df.select(col(\"Start_Time\")).show(10)"
   ]
  },
  {
   "cell_type": "markdown",
   "id": "88e656ea",
   "metadata": {},
   "source": [
    "Calcul de la différence entre les colonnes \"Start_Time\" et \"Weather_Timestamp\":"
   ]
  },
  {
   "cell_type": "code",
   "execution_count": 84,
   "id": "48938046-1a9e-4808-b6bb-fbd07fcc2f89",
   "metadata": {},
   "outputs": [
    {
     "name": "stdout",
     "output_type": "stream",
     "text": [
      "La difference moyenne entre 'Start_Time' et 'Weather_Timestamp':  0:00:00.071819\n"
     ]
    }
   ],
   "source": [
    "from pyspark.sql.functions import col, mean\n",
    "from datetime import timedelta\n",
    "\n",
    "diff_col = (col(\"Weather_Timestamp\").cast(\"long\") - col(\"Start_Time\").cast(\"long\")).alias(\"diff\")\n",
    "\n",
    "mean_diff = df.select(diff_col).agg(mean(\"diff\")).collect()[0][0]\n",
    "\n",
    "mean_diff_timedelta = timedelta(milliseconds=mean_diff)\n",
    "\n",
    "print(\"La difference moyenne entre 'Start_Time' et 'Weather_Timestamp': \", mean_diff_timedelta)"
   ]
  },
  {
   "cell_type": "markdown",
   "id": "9213f961",
   "metadata": {},
   "source": [
    "La différence est très faible, on peut déduire que l'attribut 'Weather_Timestamp' n'apporte pas de valeurs ajoutée et peut être supprimé"
   ]
  },
  {
   "cell_type": "code",
   "execution_count": 85,
   "id": "e80f7409-c7a7-4785-b83b-b7a33bba386c",
   "metadata": {},
   "outputs": [],
   "source": [
    "df = df.drop('Weather_Timestamp')"
   ]
  },
  {
   "cell_type": "markdown",
   "id": "130eef4d",
   "metadata": {},
   "source": [
    " Extraire les données temporaires à partir de la colonne 'Start_Time' et les stocke dans des colonnes distinctes:"
   ]
  },
  {
   "cell_type": "code",
   "execution_count": 86,
   "id": "5d32f031-bf84-43f7-8e36-cbae1102ff9c",
   "metadata": {},
   "outputs": [
    {
     "name": "stdout",
     "output_type": "stream",
     "text": [
      "+-------------------+----+-----+-------+---+----+------+\n",
      "|         Start_Time|Year|Month|Weekday|Day|Hour|Minute|\n",
      "+-------------------+----+-----+-------+---+----+------+\n",
      "|2016-02-08 00:37:08|2016|    2|      2|  8|   0|  37.0|\n",
      "|2016-02-08 05:56:20|2016|    2|      2|  8|   5| 356.0|\n",
      "|2016-02-08 06:15:39|2016|    2|      2|  8|   6| 375.0|\n",
      "|2016-02-08 06:51:45|2016|    2|      2|  8|   6| 411.0|\n",
      "|2016-02-08 07:53:43|2016|    2|      2|  8|   7| 473.0|\n",
      "+-------------------+----+-----+-------+---+----+------+\n",
      "only showing top 5 rows\n",
      "\n"
     ]
    }
   ],
   "source": [
    "from pyspark.sql.functions import year, month, dayofweek, dayofmonth, hour, minute\n",
    "\n",
    "df = df.withColumn('Year', year('Start_Time'))\n",
    "\n",
    "df = df.withColumn('Month', month('Start_Time'))\n",
    "\n",
    "df = df.withColumn('Weekday', dayofweek('Start_Time'))\n",
    "\n",
    "df = df.withColumn('Day', dayofmonth('Start_Time'))\n",
    "\n",
    "df = df.withColumn('Hour', hour('Start_Time'))\n",
    "\n",
    "df = df.withColumn('Minute', hour('Start_Time')*60.0 + minute('Start_Time'))\n",
    "\n",
    "df.select('Start_Time', 'Year', 'Month', 'Weekday', 'Day', 'Hour', 'Minute').show(5)"
   ]
  },
  {
   "cell_type": "markdown",
   "id": "e4c36209",
   "metadata": {},
   "source": [
    "Ajouter une nouvelle colonnées 'Precipitation_NA' avec les données de 'Precipitation(in)' qui existe déjà et remplacer ces valeurs manquantes par la médiane"
   ]
  },
  {
   "cell_type": "code",
   "execution_count": 87,
   "id": "9a6fa524-93e7-4823-baf8-54b8f8a30064",
   "metadata": {},
   "outputs": [],
   "source": [
    "from pyspark.sql.functions import col, when, lit\n",
    "\n",
    "df = df.withColumn(\"Precipitation_NA\", lit(0))\n",
    "\n",
    "df = df.withColumn(\"Precipitation_NA\", when(col(\"Precipitation(in)\").isNull(), 1).otherwise(col(\"Precipitation_NA\")))\n",
    "\n",
    "median_val = df.approxQuantile(\"Precipitation(in)\", [0.5], 0.001)[0]\n",
    "\n",
    "df = df.withColumn(\"Precipitation(in)\", when(col(\"Precipitation(in)\").isNull(), median_val).otherwise(col(\"Precipitation(in)\")))"
   ]
  },
  {
   "cell_type": "markdown",
   "id": "f88e2850",
   "metadata": {},
   "source": [
    "##### Convertir le DataFrame Spark mis à jour en DataFrame Pandas:"
   ]
  },
  {
   "cell_type": "markdown",
   "id": "eb274ea8",
   "metadata": {},
   "source": [
    "Etant données que le DataFrame Spark est d'une grande taille, il a fallu trouvé une solution optimale qui va permettre de convertir le df Spark en Pandas.\n",
    "\n",
    "Pour cela, nous avons défini 10 chunks, leur taille a été défini par rapport à la taille globale du DataFrame.\n",
    "\n",
    "Ensuite, le script va lire les données du DataFrame Spark en petits morceaux (chunks) sous forme de Pandas DataFrame en utilisant la méthode toPandas(). Il divise les données en \"num_chunks\" (10) et lit chaque partie en utilisant \"chunk_size\" (une taille prédéfinie). Finalement le script concatene les chunks en un seul DataFrame Pandas"
   ]
  },
  {
   "cell_type": "code",
   "execution_count": 88,
   "id": "e312a368-b493-451a-b6d1-e42eda0024c1",
   "metadata": {},
   "outputs": [],
   "source": [
    "num_chunks = 10\n",
    "\n",
    "chunk_size = int(df.count() / num_chunks)\n",
    "\n",
    "chunks = [df.limit(chunk_size).toPandas() for i in range(num_chunks)]\n",
    "\n",
    "df_pandas = pd.concat(chunks, ignore_index=True)"
   ]
  },
  {
   "cell_type": "code",
   "execution_count": 89,
   "id": "b0dda98d-5330-42a6-ac32-0f3fd88975dd",
   "metadata": {},
   "outputs": [
    {
     "data": {
      "text/html": [
       "<div>\n",
       "<style scoped>\n",
       "    .dataframe tbody tr th:only-of-type {\n",
       "        vertical-align: middle;\n",
       "    }\n",
       "\n",
       "    .dataframe tbody tr th {\n",
       "        vertical-align: top;\n",
       "    }\n",
       "\n",
       "    .dataframe thead th {\n",
       "        text-align: right;\n",
       "    }\n",
       "</style>\n",
       "<table border=\"1\" class=\"dataframe\">\n",
       "  <thead>\n",
       "    <tr style=\"text-align: right;\">\n",
       "      <th></th>\n",
       "      <th>ID</th>\n",
       "      <th>Severity</th>\n",
       "      <th>Start_Time</th>\n",
       "      <th>Start_Lat</th>\n",
       "      <th>Start_Lng</th>\n",
       "      <th>Distance(mi)</th>\n",
       "      <th>Description</th>\n",
       "      <th>Side</th>\n",
       "      <th>City</th>\n",
       "      <th>County</th>\n",
       "      <th>...</th>\n",
       "      <th>Snow</th>\n",
       "      <th>Heavy_Snow</th>\n",
       "      <th>Fog</th>\n",
       "      <th>Year</th>\n",
       "      <th>Month</th>\n",
       "      <th>Weekday</th>\n",
       "      <th>Day</th>\n",
       "      <th>Hour</th>\n",
       "      <th>Minute</th>\n",
       "      <th>Precipitation_NA</th>\n",
       "    </tr>\n",
       "  </thead>\n",
       "  <tbody>\n",
       "    <tr>\n",
       "      <th>0</th>\n",
       "      <td>A-1</td>\n",
       "      <td>3</td>\n",
       "      <td>2016-02-08 00:37:08</td>\n",
       "      <td>40.108910</td>\n",
       "      <td>-83.092860</td>\n",
       "      <td>3.230</td>\n",
       "      <td>Between Sawmill Rd/Exit 20 and OH-315/Olentang...</td>\n",
       "      <td>R</td>\n",
       "      <td>Dublin</td>\n",
       "      <td>Franklin</td>\n",
       "      <td>...</td>\n",
       "      <td>False</td>\n",
       "      <td>False</td>\n",
       "      <td>False</td>\n",
       "      <td>2016</td>\n",
       "      <td>2</td>\n",
       "      <td>2</td>\n",
       "      <td>8</td>\n",
       "      <td>0</td>\n",
       "      <td>37.0</td>\n",
       "      <td>0</td>\n",
       "    </tr>\n",
       "    <tr>\n",
       "      <th>1</th>\n",
       "      <td>A-2</td>\n",
       "      <td>2</td>\n",
       "      <td>2016-02-08 05:56:20</td>\n",
       "      <td>39.865420</td>\n",
       "      <td>-84.062800</td>\n",
       "      <td>0.747</td>\n",
       "      <td>At OH-4/OH-235/Exit 41 - Accident.</td>\n",
       "      <td>R</td>\n",
       "      <td>Dayton</td>\n",
       "      <td>Montgomery</td>\n",
       "      <td>...</td>\n",
       "      <td>False</td>\n",
       "      <td>False</td>\n",
       "      <td>False</td>\n",
       "      <td>2016</td>\n",
       "      <td>2</td>\n",
       "      <td>2</td>\n",
       "      <td>8</td>\n",
       "      <td>5</td>\n",
       "      <td>356.0</td>\n",
       "      <td>0</td>\n",
       "    </tr>\n",
       "    <tr>\n",
       "      <th>2</th>\n",
       "      <td>A-3</td>\n",
       "      <td>2</td>\n",
       "      <td>2016-02-08 06:15:39</td>\n",
       "      <td>39.102660</td>\n",
       "      <td>-84.524680</td>\n",
       "      <td>0.055</td>\n",
       "      <td>At I-71/US-50/Exit 1 - Accident.</td>\n",
       "      <td>R</td>\n",
       "      <td>Cincinnati</td>\n",
       "      <td>Hamilton</td>\n",
       "      <td>...</td>\n",
       "      <td>False</td>\n",
       "      <td>False</td>\n",
       "      <td>False</td>\n",
       "      <td>2016</td>\n",
       "      <td>2</td>\n",
       "      <td>2</td>\n",
       "      <td>8</td>\n",
       "      <td>6</td>\n",
       "      <td>375.0</td>\n",
       "      <td>0</td>\n",
       "    </tr>\n",
       "    <tr>\n",
       "      <th>3</th>\n",
       "      <td>A-4</td>\n",
       "      <td>2</td>\n",
       "      <td>2016-02-08 06:51:45</td>\n",
       "      <td>41.062130</td>\n",
       "      <td>-81.537840</td>\n",
       "      <td>0.123</td>\n",
       "      <td>At Dart Ave/Exit 21 - Accident.</td>\n",
       "      <td>R</td>\n",
       "      <td>Akron</td>\n",
       "      <td>Summit</td>\n",
       "      <td>...</td>\n",
       "      <td>False</td>\n",
       "      <td>False</td>\n",
       "      <td>False</td>\n",
       "      <td>2016</td>\n",
       "      <td>2</td>\n",
       "      <td>2</td>\n",
       "      <td>8</td>\n",
       "      <td>6</td>\n",
       "      <td>411.0</td>\n",
       "      <td>1</td>\n",
       "    </tr>\n",
       "    <tr>\n",
       "      <th>4</th>\n",
       "      <td>A-5</td>\n",
       "      <td>3</td>\n",
       "      <td>2016-02-08 07:53:43</td>\n",
       "      <td>39.172393</td>\n",
       "      <td>-84.492792</td>\n",
       "      <td>0.500</td>\n",
       "      <td>At Mitchell Ave/Exit 6 - Accident.</td>\n",
       "      <td>R</td>\n",
       "      <td>Cincinnati</td>\n",
       "      <td>Hamilton</td>\n",
       "      <td>...</td>\n",
       "      <td>False</td>\n",
       "      <td>False</td>\n",
       "      <td>False</td>\n",
       "      <td>2016</td>\n",
       "      <td>2</td>\n",
       "      <td>2</td>\n",
       "      <td>8</td>\n",
       "      <td>7</td>\n",
       "      <td>473.0</td>\n",
       "      <td>0</td>\n",
       "    </tr>\n",
       "  </tbody>\n",
       "</table>\n",
       "<p>5 rows × 41 columns</p>\n",
       "</div>"
      ],
      "text/plain": [
       "    ID  Severity          Start_Time  Start_Lat  Start_Lng  Distance(mi)  \\\n",
       "0  A-1         3 2016-02-08 00:37:08  40.108910 -83.092860         3.230   \n",
       "1  A-2         2 2016-02-08 05:56:20  39.865420 -84.062800         0.747   \n",
       "2  A-3         2 2016-02-08 06:15:39  39.102660 -84.524680         0.055   \n",
       "3  A-4         2 2016-02-08 06:51:45  41.062130 -81.537840         0.123   \n",
       "4  A-5         3 2016-02-08 07:53:43  39.172393 -84.492792         0.500   \n",
       "\n",
       "                                         Description Side        City  \\\n",
       "0  Between Sawmill Rd/Exit 20 and OH-315/Olentang...    R      Dublin   \n",
       "1                 At OH-4/OH-235/Exit 41 - Accident.    R      Dayton   \n",
       "2                   At I-71/US-50/Exit 1 - Accident.    R  Cincinnati   \n",
       "3                    At Dart Ave/Exit 21 - Accident.    R       Akron   \n",
       "4                 At Mitchell Ave/Exit 6 - Accident.    R  Cincinnati   \n",
       "\n",
       "       County  ...   Snow  Heavy_Snow    Fog  Year  Month Weekday  Day  Hour  \\\n",
       "0    Franklin  ...  False       False  False  2016      2       2    8     0   \n",
       "1  Montgomery  ...  False       False  False  2016      2       2    8     5   \n",
       "2    Hamilton  ...  False       False  False  2016      2       2    8     6   \n",
       "3      Summit  ...  False       False  False  2016      2       2    8     6   \n",
       "4    Hamilton  ...  False       False  False  2016      2       2    8     7   \n",
       "\n",
       "  Minute  Precipitation_NA  \n",
       "0   37.0                 0  \n",
       "1  356.0                 0  \n",
       "2  375.0                 0  \n",
       "3  411.0                 1  \n",
       "4  473.0                 0  \n",
       "\n",
       "[5 rows x 41 columns]"
      ]
     },
     "execution_count": 89,
     "metadata": {},
     "output_type": "execute_result"
    }
   ],
   "source": [
    "df_pandas.head()"
   ]
  },
  {
   "cell_type": "code",
   "execution_count": 92,
   "id": "356ad84f-f9cf-4d6b-969e-9c2c12e5bfc6",
   "metadata": {},
   "outputs": [
    {
     "data": {
      "text/html": [
       "<div>\n",
       "<style scoped>\n",
       "    .dataframe tbody tr th:only-of-type {\n",
       "        vertical-align: middle;\n",
       "    }\n",
       "\n",
       "    .dataframe tbody tr th {\n",
       "        vertical-align: top;\n",
       "    }\n",
       "\n",
       "    .dataframe thead th {\n",
       "        text-align: right;\n",
       "    }\n",
       "</style>\n",
       "<table border=\"1\" class=\"dataframe\">\n",
       "  <thead>\n",
       "    <tr style=\"text-align: right;\">\n",
       "      <th></th>\n",
       "      <th>ID</th>\n",
       "      <th>Severity</th>\n",
       "      <th>Start_Time</th>\n",
       "      <th>Start_Lat</th>\n",
       "      <th>Start_Lng</th>\n",
       "      <th>Distance(mi)</th>\n",
       "      <th>Description</th>\n",
       "      <th>Side</th>\n",
       "      <th>City</th>\n",
       "      <th>County</th>\n",
       "      <th>...</th>\n",
       "      <th>Snow</th>\n",
       "      <th>Heavy_Snow</th>\n",
       "      <th>Fog</th>\n",
       "      <th>Year</th>\n",
       "      <th>Month</th>\n",
       "      <th>Weekday</th>\n",
       "      <th>Day</th>\n",
       "      <th>Hour</th>\n",
       "      <th>Minute</th>\n",
       "      <th>Precipitation_NA</th>\n",
       "    </tr>\n",
       "  </thead>\n",
       "  <tbody>\n",
       "    <tr>\n",
       "      <th>2842465</th>\n",
       "      <td>A-284402</td>\n",
       "      <td>2</td>\n",
       "      <td>2021-11-05 10:28:30</td>\n",
       "      <td>34.164501</td>\n",
       "      <td>-118.623293</td>\n",
       "      <td>2.012</td>\n",
       "      <td>Slow traffic on Ventura Fwy E - US-101 S from ...</td>\n",
       "      <td>R</td>\n",
       "      <td>Woodland Hills</td>\n",
       "      <td>Los Angeles</td>\n",
       "      <td>...</td>\n",
       "      <td>False</td>\n",
       "      <td>False</td>\n",
       "      <td>False</td>\n",
       "      <td>2021</td>\n",
       "      <td>11</td>\n",
       "      <td>6</td>\n",
       "      <td>5</td>\n",
       "      <td>10</td>\n",
       "      <td>628.0</td>\n",
       "      <td>0</td>\n",
       "    </tr>\n",
       "    <tr>\n",
       "      <th>2842466</th>\n",
       "      <td>A-284403</td>\n",
       "      <td>2</td>\n",
       "      <td>2021-09-14 14:24:30</td>\n",
       "      <td>34.612867</td>\n",
       "      <td>-120.081994</td>\n",
       "      <td>0.186</td>\n",
       "      <td>Stationary traffic from Tyndall St to Meadowva...</td>\n",
       "      <td>R</td>\n",
       "      <td>Santa Ynez</td>\n",
       "      <td>Santa Barbara</td>\n",
       "      <td>...</td>\n",
       "      <td>False</td>\n",
       "      <td>False</td>\n",
       "      <td>False</td>\n",
       "      <td>2021</td>\n",
       "      <td>9</td>\n",
       "      <td>3</td>\n",
       "      <td>14</td>\n",
       "      <td>14</td>\n",
       "      <td>864.0</td>\n",
       "      <td>0</td>\n",
       "    </tr>\n",
       "    <tr>\n",
       "      <th>2842467</th>\n",
       "      <td>A-284404</td>\n",
       "      <td>2</td>\n",
       "      <td>2021-12-26 19:59:00</td>\n",
       "      <td>37.611063</td>\n",
       "      <td>-77.513356</td>\n",
       "      <td>0.032</td>\n",
       "      <td>Incident on GLENSIDE DR near BETHLEHEM RD Driv...</td>\n",
       "      <td>R</td>\n",
       "      <td>Henrico</td>\n",
       "      <td>Henrico</td>\n",
       "      <td>...</td>\n",
       "      <td>False</td>\n",
       "      <td>False</td>\n",
       "      <td>False</td>\n",
       "      <td>2021</td>\n",
       "      <td>12</td>\n",
       "      <td>1</td>\n",
       "      <td>26</td>\n",
       "      <td>19</td>\n",
       "      <td>1199.0</td>\n",
       "      <td>0</td>\n",
       "    </tr>\n",
       "    <tr>\n",
       "      <th>2842468</th>\n",
       "      <td>A-284405</td>\n",
       "      <td>2</td>\n",
       "      <td>2021-06-04 17:14:40</td>\n",
       "      <td>33.730913</td>\n",
       "      <td>-78.943022</td>\n",
       "      <td>1.326</td>\n",
       "      <td>Incident on US-501 NB near SC-31 Road closed. ...</td>\n",
       "      <td>R</td>\n",
       "      <td>Myrtle Beach</td>\n",
       "      <td>Horry</td>\n",
       "      <td>...</td>\n",
       "      <td>False</td>\n",
       "      <td>False</td>\n",
       "      <td>False</td>\n",
       "      <td>2021</td>\n",
       "      <td>6</td>\n",
       "      <td>6</td>\n",
       "      <td>4</td>\n",
       "      <td>17</td>\n",
       "      <td>1034.0</td>\n",
       "      <td>0</td>\n",
       "    </tr>\n",
       "    <tr>\n",
       "      <th>2842469</th>\n",
       "      <td>A-284406</td>\n",
       "      <td>2</td>\n",
       "      <td>2021-11-13 13:02:00</td>\n",
       "      <td>30.381245</td>\n",
       "      <td>-97.685104</td>\n",
       "      <td>0.090</td>\n",
       "      <td>Incident on W BRAKER LN near MOTHERAL DR Drive...</td>\n",
       "      <td>R</td>\n",
       "      <td>Austin</td>\n",
       "      <td>Travis</td>\n",
       "      <td>...</td>\n",
       "      <td>False</td>\n",
       "      <td>False</td>\n",
       "      <td>False</td>\n",
       "      <td>2021</td>\n",
       "      <td>11</td>\n",
       "      <td>7</td>\n",
       "      <td>13</td>\n",
       "      <td>13</td>\n",
       "      <td>782.0</td>\n",
       "      <td>1</td>\n",
       "    </tr>\n",
       "  </tbody>\n",
       "</table>\n",
       "<p>5 rows × 41 columns</p>\n",
       "</div>"
      ],
      "text/plain": [
       "               ID  Severity          Start_Time  Start_Lat   Start_Lng  \\\n",
       "2842465  A-284402         2 2021-11-05 10:28:30  34.164501 -118.623293   \n",
       "2842466  A-284403         2 2021-09-14 14:24:30  34.612867 -120.081994   \n",
       "2842467  A-284404         2 2021-12-26 19:59:00  37.611063  -77.513356   \n",
       "2842468  A-284405         2 2021-06-04 17:14:40  33.730913  -78.943022   \n",
       "2842469  A-284406         2 2021-11-13 13:02:00  30.381245  -97.685104   \n",
       "\n",
       "         Distance(mi)                                        Description Side  \\\n",
       "2842465         2.012  Slow traffic on Ventura Fwy E - US-101 S from ...    R   \n",
       "2842466         0.186  Stationary traffic from Tyndall St to Meadowva...    R   \n",
       "2842467         0.032  Incident on GLENSIDE DR near BETHLEHEM RD Driv...    R   \n",
       "2842468         1.326  Incident on US-501 NB near SC-31 Road closed. ...    R   \n",
       "2842469         0.090  Incident on W BRAKER LN near MOTHERAL DR Drive...    R   \n",
       "\n",
       "                   City         County  ...   Snow  Heavy_Snow    Fog  Year  \\\n",
       "2842465  Woodland Hills    Los Angeles  ...  False       False  False  2021   \n",
       "2842466      Santa Ynez  Santa Barbara  ...  False       False  False  2021   \n",
       "2842467         Henrico        Henrico  ...  False       False  False  2021   \n",
       "2842468    Myrtle Beach          Horry  ...  False       False  False  2021   \n",
       "2842469          Austin         Travis  ...  False       False  False  2021   \n",
       "\n",
       "         Month Weekday  Day  Hour  Minute  Precipitation_NA  \n",
       "2842465     11       6    5    10   628.0                 0  \n",
       "2842466      9       3   14    14   864.0                 0  \n",
       "2842467     12       1   26    19  1199.0                 0  \n",
       "2842468      6       6    4    17  1034.0                 0  \n",
       "2842469     11       7   13    13   782.0                 1  \n",
       "\n",
       "[5 rows x 41 columns]"
      ]
     },
     "execution_count": 92,
     "metadata": {},
     "output_type": "execute_result"
    }
   ],
   "source": [
    "df_pandas.tail()"
   ]
  },
  {
   "cell_type": "code",
   "execution_count": 90,
   "id": "0f928d39-ce1c-4f77-9aa0-27b54126aedd",
   "metadata": {},
   "outputs": [
    {
     "name": "stdout",
     "output_type": "stream",
     "text": [
      "Index(['ID', 'Severity', 'Start_Time', 'Start_Lat', 'Start_Lng',\n",
      "       'Distance(mi)', 'Description', 'Side', 'City', 'County', 'State',\n",
      "       'Temperature(F)', 'Humidity(%)', 'Pressure(in)', 'Visibility(mi)',\n",
      "       'Wind_Direction', 'Wind_Speed(mph)', 'Precipitation(in)',\n",
      "       'Weather_Condition', 'Crossing', 'Junction', 'Station',\n",
      "       'Traffic_Signal', 'Sunrise_Sunset', 'Civil_Twilight',\n",
      "       'Nautical_Twilight', 'Astronomical_Twilight', 'Clear', 'Cloud', 'Rain',\n",
      "       'Heavy_Rain', 'Snow', 'Heavy_Snow', 'Fog', 'Year', 'Month', 'Weekday',\n",
      "       'Day', 'Hour', 'Minute', 'Precipitation_NA'],\n",
      "      dtype='object')\n"
     ]
    }
   ],
   "source": [
    "print(df_pandas.columns)"
   ]
  },
  {
   "cell_type": "code",
   "execution_count": 91,
   "id": "486eb0b1-edea-4f71-9c77-ac05f369ba67",
   "metadata": {},
   "outputs": [
    {
     "data": {
      "text/plain": [
       "(2842470, 41)"
      ]
     },
     "execution_count": 91,
     "metadata": {},
     "output_type": "execute_result"
    }
   ],
   "source": [
    "df_pandas.shape "
   ]
  },
  {
   "cell_type": "code",
   "execution_count": 94,
   "id": "08e6bce7-6bc7-429f-a05d-f24855959573",
   "metadata": {},
   "outputs": [
    {
     "data": {
      "text/html": [
       "<div>\n",
       "<style scoped>\n",
       "    .dataframe tbody tr th:only-of-type {\n",
       "        vertical-align: middle;\n",
       "    }\n",
       "\n",
       "    .dataframe tbody tr th {\n",
       "        vertical-align: top;\n",
       "    }\n",
       "\n",
       "    .dataframe thead th {\n",
       "        text-align: right;\n",
       "    }\n",
       "</style>\n",
       "<table border=\"1\" class=\"dataframe\">\n",
       "  <thead>\n",
       "    <tr style=\"text-align: right;\">\n",
       "      <th></th>\n",
       "      <th>Severity</th>\n",
       "      <th>Start_Lat</th>\n",
       "      <th>Start_Lng</th>\n",
       "      <th>Distance(mi)</th>\n",
       "      <th>Temperature(F)</th>\n",
       "      <th>Humidity(%)</th>\n",
       "      <th>Pressure(in)</th>\n",
       "      <th>Visibility(mi)</th>\n",
       "      <th>Wind_Speed(mph)</th>\n",
       "      <th>Precipitation(in)</th>\n",
       "      <th>Year</th>\n",
       "      <th>Month</th>\n",
       "      <th>Weekday</th>\n",
       "      <th>Day</th>\n",
       "      <th>Hour</th>\n",
       "      <th>Minute</th>\n",
       "      <th>Precipitation_NA</th>\n",
       "    </tr>\n",
       "  </thead>\n",
       "  <tbody>\n",
       "    <tr>\n",
       "      <th>count</th>\n",
       "      <td>2.842470e+06</td>\n",
       "      <td>2.842470e+06</td>\n",
       "      <td>2.842470e+06</td>\n",
       "      <td>2.842470e+06</td>\n",
       "      <td>2.842470e+06</td>\n",
       "      <td>2.842470e+06</td>\n",
       "      <td>2.842470e+06</td>\n",
       "      <td>2.842470e+06</td>\n",
       "      <td>2.455210e+06</td>\n",
       "      <td>2.842470e+06</td>\n",
       "      <td>2.842470e+06</td>\n",
       "      <td>2.842470e+06</td>\n",
       "      <td>2.842470e+06</td>\n",
       "      <td>2.842470e+06</td>\n",
       "      <td>2.842470e+06</td>\n",
       "      <td>2.842470e+06</td>\n",
       "      <td>2.842470e+06</td>\n",
       "    </tr>\n",
       "    <tr>\n",
       "      <th>mean</th>\n",
       "      <td>2.341260e+00</td>\n",
       "      <td>3.673416e+01</td>\n",
       "      <td>-9.555816e+01</td>\n",
       "      <td>7.545760e-01</td>\n",
       "      <td>6.445463e+01</td>\n",
       "      <td>6.365282e+01</td>\n",
       "      <td>2.986872e+01</td>\n",
       "      <td>9.304258e+00</td>\n",
       "      <td>8.739296e+00</td>\n",
       "      <td>7.812184e-03</td>\n",
       "      <td>2.017406e+03</td>\n",
       "      <td>6.912368e+00</td>\n",
       "      <td>4.056018e+00</td>\n",
       "      <td>1.590794e+01</td>\n",
       "      <td>1.242067e+01</td>\n",
       "      <td>7.752434e+02</td>\n",
       "      <td>7.036380e-01</td>\n",
       "    </tr>\n",
       "    <tr>\n",
       "      <th>std</th>\n",
       "      <td>6.522122e-01</td>\n",
       "      <td>5.070485e+00</td>\n",
       "      <td>1.768899e+01</td>\n",
       "      <td>1.698394e+00</td>\n",
       "      <td>1.788773e+01</td>\n",
       "      <td>2.218007e+01</td>\n",
       "      <td>6.089671e-01</td>\n",
       "      <td>2.875998e+00</td>\n",
       "      <td>5.570534e+00</td>\n",
       "      <td>1.632921e-01</td>\n",
       "      <td>1.898403e+00</td>\n",
       "      <td>3.323331e+00</td>\n",
       "      <td>1.649284e+00</td>\n",
       "      <td>8.785534e+00</td>\n",
       "      <td>5.237874e+00</td>\n",
       "      <td>3.143217e+02</td>\n",
       "      <td>4.566526e-01</td>\n",
       "    </tr>\n",
       "    <tr>\n",
       "      <th>min</th>\n",
       "      <td>2.000000e+00</td>\n",
       "      <td>2.457033e+01</td>\n",
       "      <td>-1.244336e+02</td>\n",
       "      <td>0.000000e+00</td>\n",
       "      <td>-2.020000e+01</td>\n",
       "      <td>3.000000e+00</td>\n",
       "      <td>2.000000e-02</td>\n",
       "      <td>0.000000e+00</td>\n",
       "      <td>0.000000e+00</td>\n",
       "      <td>0.000000e+00</td>\n",
       "      <td>2.016000e+03</td>\n",
       "      <td>1.000000e+00</td>\n",
       "      <td>1.000000e+00</td>\n",
       "      <td>1.000000e+00</td>\n",
       "      <td>0.000000e+00</td>\n",
       "      <td>0.000000e+00</td>\n",
       "      <td>0.000000e+00</td>\n",
       "    </tr>\n",
       "    <tr>\n",
       "      <th>25%</th>\n",
       "      <td>2.000000e+00</td>\n",
       "      <td>3.373544e+01</td>\n",
       "      <td>-1.174851e+02</td>\n",
       "      <td>1.280000e-01</td>\n",
       "      <td>5.400000e+01</td>\n",
       "      <td>4.800000e+01</td>\n",
       "      <td>2.984000e+01</td>\n",
       "      <td>1.000000e+01</td>\n",
       "      <td>5.800000e+00</td>\n",
       "      <td>0.000000e+00</td>\n",
       "      <td>2.016000e+03</td>\n",
       "      <td>4.000000e+00</td>\n",
       "      <td>3.000000e+00</td>\n",
       "      <td>8.000000e+00</td>\n",
       "      <td>8.000000e+00</td>\n",
       "      <td>5.160000e+02</td>\n",
       "      <td>0.000000e+00</td>\n",
       "    </tr>\n",
       "    <tr>\n",
       "      <th>50%</th>\n",
       "      <td>2.000000e+00</td>\n",
       "      <td>3.733617e+01</td>\n",
       "      <td>-8.837936e+01</td>\n",
       "      <td>3.900000e-01</td>\n",
       "      <td>6.690000e+01</td>\n",
       "      <td>6.600000e+01</td>\n",
       "      <td>2.998000e+01</td>\n",
       "      <td>1.000000e+01</td>\n",
       "      <td>8.100000e+00</td>\n",
       "      <td>0.000000e+00</td>\n",
       "      <td>2.017000e+03</td>\n",
       "      <td>7.000000e+00</td>\n",
       "      <td>4.000000e+00</td>\n",
       "      <td>1.600000e+01</td>\n",
       "      <td>1.300000e+01</td>\n",
       "      <td>8.130000e+02</td>\n",
       "      <td>1.000000e+00</td>\n",
       "    </tr>\n",
       "    <tr>\n",
       "      <th>75%</th>\n",
       "      <td>2.000000e+00</td>\n",
       "      <td>4.072531e+01</td>\n",
       "      <td>-8.068670e+01</td>\n",
       "      <td>7.350000e-01</td>\n",
       "      <td>7.700000e+01</td>\n",
       "      <td>8.200000e+01</td>\n",
       "      <td>3.009000e+01</td>\n",
       "      <td>1.000000e+01</td>\n",
       "      <td>1.150000e+01</td>\n",
       "      <td>0.000000e+00</td>\n",
       "      <td>2.017000e+03</td>\n",
       "      <td>1.000000e+01</td>\n",
       "      <td>5.000000e+00</td>\n",
       "      <td>2.300000e+01</td>\n",
       "      <td>1.700000e+01</td>\n",
       "      <td>1.022000e+03</td>\n",
       "      <td>1.000000e+00</td>\n",
       "    </tr>\n",
       "    <tr>\n",
       "      <th>max</th>\n",
       "      <td>4.000000e+00</td>\n",
       "      <td>4.900058e+01</td>\n",
       "      <td>-6.711317e+01</td>\n",
       "      <td>1.515250e+02</td>\n",
       "      <td>1.560000e+02</td>\n",
       "      <td>1.000000e+02</td>\n",
       "      <td>5.276000e+01</td>\n",
       "      <td>1.110000e+02</td>\n",
       "      <td>8.228000e+02</td>\n",
       "      <td>1.002000e+01</td>\n",
       "      <td>2.021000e+03</td>\n",
       "      <td>1.200000e+01</td>\n",
       "      <td>7.000000e+00</td>\n",
       "      <td>3.100000e+01</td>\n",
       "      <td>2.300000e+01</td>\n",
       "      <td>1.439000e+03</td>\n",
       "      <td>1.000000e+00</td>\n",
       "    </tr>\n",
       "  </tbody>\n",
       "</table>\n",
       "</div>"
      ],
      "text/plain": [
       "           Severity     Start_Lat     Start_Lng  Distance(mi)  Temperature(F)  \\\n",
       "count  2.842470e+06  2.842470e+06  2.842470e+06  2.842470e+06    2.842470e+06   \n",
       "mean   2.341260e+00  3.673416e+01 -9.555816e+01  7.545760e-01    6.445463e+01   \n",
       "std    6.522122e-01  5.070485e+00  1.768899e+01  1.698394e+00    1.788773e+01   \n",
       "min    2.000000e+00  2.457033e+01 -1.244336e+02  0.000000e+00   -2.020000e+01   \n",
       "25%    2.000000e+00  3.373544e+01 -1.174851e+02  1.280000e-01    5.400000e+01   \n",
       "50%    2.000000e+00  3.733617e+01 -8.837936e+01  3.900000e-01    6.690000e+01   \n",
       "75%    2.000000e+00  4.072531e+01 -8.068670e+01  7.350000e-01    7.700000e+01   \n",
       "max    4.000000e+00  4.900058e+01 -6.711317e+01  1.515250e+02    1.560000e+02   \n",
       "\n",
       "        Humidity(%)  Pressure(in)  Visibility(mi)  Wind_Speed(mph)  \\\n",
       "count  2.842470e+06  2.842470e+06    2.842470e+06     2.455210e+06   \n",
       "mean   6.365282e+01  2.986872e+01    9.304258e+00     8.739296e+00   \n",
       "std    2.218007e+01  6.089671e-01    2.875998e+00     5.570534e+00   \n",
       "min    3.000000e+00  2.000000e-02    0.000000e+00     0.000000e+00   \n",
       "25%    4.800000e+01  2.984000e+01    1.000000e+01     5.800000e+00   \n",
       "50%    6.600000e+01  2.998000e+01    1.000000e+01     8.100000e+00   \n",
       "75%    8.200000e+01  3.009000e+01    1.000000e+01     1.150000e+01   \n",
       "max    1.000000e+02  5.276000e+01    1.110000e+02     8.228000e+02   \n",
       "\n",
       "       Precipitation(in)          Year         Month       Weekday  \\\n",
       "count       2.842470e+06  2.842470e+06  2.842470e+06  2.842470e+06   \n",
       "mean        7.812184e-03  2.017406e+03  6.912368e+00  4.056018e+00   \n",
       "std         1.632921e-01  1.898403e+00  3.323331e+00  1.649284e+00   \n",
       "min         0.000000e+00  2.016000e+03  1.000000e+00  1.000000e+00   \n",
       "25%         0.000000e+00  2.016000e+03  4.000000e+00  3.000000e+00   \n",
       "50%         0.000000e+00  2.017000e+03  7.000000e+00  4.000000e+00   \n",
       "75%         0.000000e+00  2.017000e+03  1.000000e+01  5.000000e+00   \n",
       "max         1.002000e+01  2.021000e+03  1.200000e+01  7.000000e+00   \n",
       "\n",
       "                Day          Hour        Minute  Precipitation_NA  \n",
       "count  2.842470e+06  2.842470e+06  2.842470e+06      2.842470e+06  \n",
       "mean   1.590794e+01  1.242067e+01  7.752434e+02      7.036380e-01  \n",
       "std    8.785534e+00  5.237874e+00  3.143217e+02      4.566526e-01  \n",
       "min    1.000000e+00  0.000000e+00  0.000000e+00      0.000000e+00  \n",
       "25%    8.000000e+00  8.000000e+00  5.160000e+02      0.000000e+00  \n",
       "50%    1.600000e+01  1.300000e+01  8.130000e+02      1.000000e+00  \n",
       "75%    2.300000e+01  1.700000e+01  1.022000e+03      1.000000e+00  \n",
       "max    3.100000e+01  2.300000e+01  1.439000e+03      1.000000e+00  "
      ]
     },
     "execution_count": 94,
     "metadata": {},
     "output_type": "execute_result"
    }
   ],
   "source": [
    "df_pandas.describe()"
   ]
  },
  {
   "cell_type": "markdown",
   "id": "27975540",
   "metadata": {},
   "source": [
    "Finalement, enregistrer les données du dataframe df_pandas au format CSV avec le nom de fichier new_usa_accidents.csv:"
   ]
  },
  {
   "cell_type": "code",
   "execution_count": 95,
   "id": "fb69b013-e003-4f38-9b5d-4d0a5b886b10",
   "metadata": {},
   "outputs": [],
   "source": [
    "df_pandas.to_csv('new_usa_accidents.csv', index=False)"
   ]
  }
 ],
 "metadata": {
  "kernelspec": {
   "display_name": "Python 3 (ipykernel)",
   "language": "python",
   "name": "python3"
  },
  "language_info": {
   "codemirror_mode": {
    "name": "ipython",
    "version": 3
   },
   "file_extension": ".py",
   "mimetype": "text/x-python",
   "name": "python",
   "nbconvert_exporter": "python",
   "pygments_lexer": "ipython3",
   "version": "3.8.5"
  }
 },
 "nbformat": 4,
 "nbformat_minor": 5
}
